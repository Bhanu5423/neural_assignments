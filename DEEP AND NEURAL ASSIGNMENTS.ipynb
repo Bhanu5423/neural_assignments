{
 "cells": [
  {
   "cell_type": "code",
   "execution_count": null,
   "id": "207edae4",
   "metadata": {},
   "outputs": [],
   "source": [
    "DEEP LEANRING AND NEURAL NETWORK ASSIGNMENT-1"
   ]
  },
  {
   "cell_type": "code",
   "execution_count": 1,
   "id": "81a248da",
   "metadata": {},
   "outputs": [
    {
     "name": "stdout",
     "output_type": "stream",
     "text": [
      "enter a string:python\n",
      "reversed string: ntyp\n"
     ]
    }
   ],
   "source": [
    "#deleting 2 characters and reversing a string\n",
    "#input the string as a list of characters\n",
    "input_string=list(input(\"enter a string:\"))\n",
    "#delete atleast 2 characters\n",
    "if len(input_string)>=2:\n",
    "    del input_string[3:5]\n",
    "\n",
    "#reverse the resultant string\n",
    "input_string.reverse()\n",
    "\n",
    "print(\"reversed string:\",''.join(input_string))"
   ]
  },
  {
   "cell_type": "code",
   "execution_count": 2,
   "id": "ccd2013c",
   "metadata": {},
   "outputs": [
    {
     "name": "stdout",
     "output_type": "stream",
     "text": [
      "enter number:12\n",
      "enter number:10\n",
      "addition: 22.0\n",
      "subraction: 2.0\n",
      "multiplication: 120.0\n",
      "division: 1.2\n"
     ]
    }
   ],
   "source": [
    "#1.B INPUT TWO NUMBERS FROM THE USER\n",
    "num1=float(input(\"enter number:\"))\n",
    "num2=float(input(\"enter number:\"))\n",
    "\n",
    "#performing airthematic operaton\n",
    "addition=num1+num2\n",
    "subraction=num1-num2\n",
    "multiplication=num1*num2\n",
    "\n",
    "#avoid divion by zero\n",
    "if num2!=0:\n",
    "    division=num1/num2\n",
    "else:\n",
    "    division =\"no possible\"\n",
    "    \n",
    "print(\"addition:\",addition)\n",
    "print(\"subraction:\",subraction)\n",
    "print(\"multiplication:\",multiplication)\n",
    "print(\"division:\",division)\n",
    "\n",
    "\n",
    "\n",
    "\n",
    "    \n"
   ]
  },
  {
   "cell_type": "code",
   "execution_count": 3,
   "id": "8c3a4499",
   "metadata": {},
   "outputs": [
    {
     "name": "stdout",
     "output_type": "stream",
     "text": [
      "Enter a sentence: i love python\n",
      "Modified sentence: i love pythons\n"
     ]
    }
   ],
   "source": [
    "#replacing a string python with pythons\n",
    "def replace_python(sentence):\n",
    "    new_sentence= sentence.replace('python', 'pythons')\n",
    "    return new_sentence\n",
    "\n",
    "input_sentence = input(\"Enter a sentence: \")\n",
    "result = replace_python(input_sentence)\n",
    "print(\"Modified sentence:\", result)"
   ]
  },
  {
   "cell_type": "code",
   "execution_count": 4,
   "id": "9a59b8a3",
   "metadata": {},
   "outputs": [
    {
     "name": "stdout",
     "output_type": "stream",
     "text": [
      "enter  class score:85\n",
      "student grade: B\n"
     ]
    }
   ],
   "source": [
    "def  cal_grade(score):\n",
    "    if score>=90:\n",
    "        return 'A'\n",
    "    elif score>=80:\n",
    "        return 'B'\n",
    "    elif score>=70:\n",
    "        return 'C'\n",
    "    elif score>=60:\n",
    "        return 'D'\n",
    "    else:\n",
    "        return 'F'\n",
    "    \n",
    "#input_score\n",
    "\n",
    "input_score=int(input(\"enter  class score:\"))\n",
    "\n",
    "student_grade= cal_grade (input_score)\n",
    "\n",
    "print(\"student grade:\",student_grade)"
   ]
  }
 ],
 "metadata": {
  "kernelspec": {
   "display_name": "Python 3 (ipykernel)",
   "language": "python",
   "name": "python3"
  },
  "language_info": {
   "codemirror_mode": {
    "name": "ipython",
    "version": 3
   },
   "file_extension": ".py",
   "mimetype": "text/x-python",
   "name": "python",
   "nbconvert_exporter": "python",
   "pygments_lexer": "ipython3",
   "version": "3.9.13"
  }
 },
 "nbformat": 4,
 "nbformat_minor": 5
}
