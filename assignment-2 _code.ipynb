{
 "cells": [
  {
   "cell_type": "code",
   "execution_count": 1,
   "id": "2b18f85a",
   "metadata": {},
   "outputs": [
    {
     "name": "stdout",
     "output_type": "stream",
     "text": [
      "Enter your first name: bhanu chand\n",
      "Enter your last name: garikapati\n",
      "Full name: bhanu chand garikapati\n"
     ]
    }
   ],
   "source": [
    "def fullname(first_name, last_name):\n",
    "    full_name = first_name + \" \" + last_name\n",
    "    return full_name\n",
    "\n",
    "# Taking input from the user\n",
    "first_name = input(\"Enter your first name: \")\n",
    "last_name = input(\"Enter your last name: \")\n",
    "\n",
    "# Calling the fullname function\n",
    "result = fullname(first_name, last_name)\n",
    "\n",
    "# Displaying the result\n",
    "print(\"Full name:\", result)\n"
   ]
  },
  {
   "cell_type": "code",
   "execution_count": 2,
   "id": "95cb9528",
   "metadata": {},
   "outputs": [
    {
     "name": "stdout",
     "output_type": "stream",
     "text": [
      "Enter your first name: bhanu chand\n",
      "Enter your last name: garikapati\n",
      "Full name: bhanu chand garikapati\n",
      "Every other character: baucadgrkpt\n"
     ]
    }
   ],
   "source": [
    "def fullname(first_name, last_name):\n",
    "    full_name = first_name + \" \" + last_name\n",
    "    return full_name\n",
    "\n",
    "def string_alternative(full_name):\n",
    "    return full_name[::2]\n",
    "\n",
    "# Taking input from the user\n",
    "first_name = input(\"Enter your first name: \")\n",
    "last_name = input(\"Enter your last name: \")\n",
    "\n",
    "# Calling the fullname function\n",
    "result_fullname = fullname(first_name, last_name)\n",
    "\n",
    "# Calling the string_alternative function\n",
    "result_alternative = string_alternative(result_fullname)\n",
    "\n",
    "# Displaying the results\n",
    "print(\"Full name:\", result_fullname)\n",
    "print(\"Every other character:\", result_alternative)\n"
   ]
  },
  {
   "cell_type": "code",
   "execution_count": 3,
   "id": "a84ac093",
   "metadata": {},
   "outputs": [
    {
     "name": "stdout",
     "output_type": "stream",
     "text": [
      "Python Course\n",
      "Python: 1\n",
      "Course: 1\n",
      "\n",
      "Deep Learning Course\n",
      "Deep: 1\n",
      "Learning: 1\n",
      "Course: 1\n",
      "\n"
     ]
    }
   ],
   "source": [
    "def count_words(line):\n",
    "    words = line.split()\n",
    "    word_count = {}\n",
    "    \n",
    "    for word in words:\n",
    "        word_count[word] = word_count.get(word, 0) + 1\n",
    "    \n",
    "    return word_count\n",
    "\n",
    "# Read input from file\n",
    "with open(\"C:/Users/garik/OneDrive/Desktop/input.txt\", \"r\") as file:\n",
    "    lines = file.readlines()\n",
    "\n",
    "# Output to console and file\n",
    "with open(\"C:/Users/garik/OneDrive/Desktop/output.txt\", \"w\") as output_file:\n",
    "    for line in lines:\n",
    "        line = line.strip()\n",
    "        print(line)\n",
    "        output_file.write(line + \"\\nWord_Count:\\n\")\n",
    "        \n",
    "        word_count = count_words(line)\n",
    "        \n",
    "        for word, count in word_count.items():\n",
    "            print(f\"{word}: {count}\")\n",
    "            output_file.write(f\"{word}: {count}\\n\")\n",
    "        \n",
    "        print()  # Add a blank line for separation\n",
    "        output_file.write(\"\\n\")\n"
   ]
  },
  {
   "cell_type": "code",
   "execution_count": 4,
   "id": "beb615e8",
   "metadata": {},
   "outputs": [
    {
     "name": "stdout",
     "output_type": "stream",
     "text": [
      "Enter the number of customers: 4\n",
      "Enter height for customer 1 (in inches): 150\n",
      "Enter height for customer 2 (in inches): 155\n",
      "Enter height for customer 3 (in inches): 145\n",
      "Enter height for customer 4 (in inches): 148\n",
      "Heights in Inches (Nested): [150.0, 155.0, 145.0, 148.0]\n",
      "Heights in Centimeters (Nested): [381.0, 393.7, 368.3, 375.92]\n",
      "Enter the number of customers: 4\n",
      "Enter height for customer 1 (in inches): 150\n",
      "Enter height for customer 2 (in inches): 155\n",
      "Enter height for customer 3 (in inches): 145\n",
      "Enter height for customer 4 (in inches): 148\n",
      "\n",
      "Heights in Inches (List Comprehensions): [150.0, 155.0, 145.0, 148.0]\n",
      "Heights in Centimeters (List Comprehensions): [381.0, 393.7, 368.3, 375.92]\n"
     ]
    }
   ],
   "source": [
    "def inches_to_centimeters(height_in_inches):\n",
    "    # 1 inch = 2.54 centimeters\n",
    "    return height_in_inches * 2.54\n",
    "\n",
    "# Method 1: Nested Interactive Loop\n",
    "heights_inches_nested = []\n",
    "heights_centimeters_nested = []\n",
    "\n",
    "# Number of customers\n",
    "num_customers_nested = int(input(\"Enter the number of customers: \"))\n",
    "\n",
    "# Input heights in inches\n",
    "for i in range(num_customers_nested):\n",
    "    height_nested = float(input(f\"Enter height for customer {i + 1} (in inches): \"))\n",
    "    heights_inches_nested.append(height_nested)\n",
    "\n",
    "# Convert heights to centimeters using a nested loop\n",
    "for height_nested in heights_inches_nested:\n",
    "    height_cm_nested = inches_to_centimeters(height_nested)\n",
    "    heights_centimeters_nested.append(round(height_cm_nested, 2))\n",
    "\n",
    "# Display the input heights and converted heights using Nested Interactive Loop\n",
    "print(\"Heights in Inches (Nested):\", heights_inches_nested)\n",
    "print(\"Heights in Centimeters (Nested):\", heights_centimeters_nested)\n",
    "\n",
    "\n",
    "# Method 2: List Comprehensions\n",
    "# Number of customers\n",
    "num_customers_comprehensions = int(input(\"Enter the number of customers: \"))\n",
    "\n",
    "# Input heights in inches using list comprehensions\n",
    "heights_inches_comprehensions = [float(input(f\"Enter height for customer {i + 1} (in inches): \")) for i in range(num_customers_comprehensions)]\n",
    "\n",
    "# Convert heights to centimeters using list comprehensions\n",
    "heights_centimeters_comprehensions = [round(inches_to_centimeters(height), 2) for height in heights_inches_comprehensions]\n",
    "\n",
    "# Display the input heights and converted heights using List Comprehensions\n",
    "print(\"\\nHeights in Inches (List Comprehensions):\", heights_inches_comprehensions)\n",
    "print(\"Heights in Centimeters (List Comprehensions):\", heights_centimeters_comprehensions)\n"
   ]
  }
 ],
 "metadata": {
  "kernelspec": {
   "display_name": "Python 3 (ipykernel)",
   "language": "python",
   "name": "python3"
  },
  "language_info": {
   "codemirror_mode": {
    "name": "ipython",
    "version": 3
   },
   "file_extension": ".py",
   "mimetype": "text/x-python",
   "name": "python",
   "nbconvert_exporter": "python",
   "pygments_lexer": "ipython3",
   "version": "3.9.13"
  }
 },
 "nbformat": 4,
 "nbformat_minor": 5
}
